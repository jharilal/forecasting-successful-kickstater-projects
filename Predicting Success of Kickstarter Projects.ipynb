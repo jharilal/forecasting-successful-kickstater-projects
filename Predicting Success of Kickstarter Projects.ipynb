{
 "cells": [
  {
   "cell_type": "code",
   "execution_count": 1,
   "id": "b8b488b7",
   "metadata": {},
   "outputs": [],
   "source": [
    "import os\n",
    "import numpy as np\n",
    "import pandas as pd\n",
    "import matplotlib.pyplot as plt"
   ]
  },
  {
   "cell_type": "code",
   "execution_count": 2,
   "id": "0a3cac41",
   "metadata": {},
   "outputs": [
    {
     "name": "stdout",
     "output_type": "stream",
     "text": [
      "/Users/jordanharilal/Projects/Portfolio Projects/Predicting Success of Kickstarter Projects/ks-projects-201801.csv\n"
     ]
    }
   ],
   "source": [
    "print(os.path.abspath('/Users/jordanharilal/Projects/Portfolio Projects/Predicting Success of Kickstarter Projects/ks-projects-201801.csv'))"
   ]
  },
  {
   "cell_type": "code",
   "execution_count": null,
   "id": "24918889",
   "metadata": {},
   "outputs": [],
   "source": [
    "rawdf = pd.read('')"
   ]
  }
 ],
 "metadata": {
  "kernelspec": {
   "display_name": "Python 3 (ipykernel)",
   "language": "python",
   "name": "python3"
  },
  "language_info": {
   "codemirror_mode": {
    "name": "ipython",
    "version": 3
   },
   "file_extension": ".py",
   "mimetype": "text/x-python",
   "name": "python",
   "nbconvert_exporter": "python",
   "pygments_lexer": "ipython3",
   "version": "3.9.7"
  }
 },
 "nbformat": 4,
 "nbformat_minor": 5
}
